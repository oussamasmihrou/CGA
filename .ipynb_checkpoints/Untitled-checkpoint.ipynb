{
 "cells": [
  {
   "cell_type": "code",
   "execution_count": null,
   "metadata": {},
   "outputs": [],
   "source": [
    "\n",
    "#pep8 test verfied \n",
    "import pandas as pd\n",
    "import numpy  as np\n",
    "import random as rd\n",
    "import numpy  as np\n",
    "import time\n",
    "import resource\n",
    "import copy\n",
    "from tqdm import tqdm"
   ]
  },
  {
   "cell_type": "code",
   "execution_count": null,
   "metadata": {},
   "outputs": [],
   "source": [
    "# ---------------------------- importation des donnee du fichier excel -----------------------------------\n",
    "data = pd.read_excel('/Users/macbookair/distance.xlsx')\n",
    "distances=np.array(data) \n",
    "data.head()"
   ]
  },
  {
   "cell_type": "code",
   "execution_count": null,
   "metadata": {},
   "outputs": [],
   "source": [
    "# ------------------------------------  Fonctions outils -------------------------------\n",
    "\n",
    "# les indice des villes dans ce programme sont decale par rapport aux \n",
    "#indices reels : ville avec indice 0 au programme correpond a la ville 1 \n",
    "\n",
    "\n",
    "Heads = [0,1,2,3,4,5,6,7,8,9,10,11,12,13,14,15,16,17,18,19,20,21,22,23,24,25,26,27,28,29]   # liste d'indice des villes Nb :\n",
    "def cost(L):      #calcul le cout d'une solution\n",
    "    somme = 0; \n",
    "    for i in range(len(L)-1):\n",
    "        somme+=distances [L[i]][L[i+1]]\n",
    "    return somme\n",
    "def generate_solution(Nb_solution=1000): # permet de generer des solutions aleatoires\n",
    "    population= []\n",
    "    for i in range(Nb_solution):\n",
    "        L = [0,1,2,3,4,5,6,7,8,9,10,11,12,13,14,15,16,17,18,19,20,21,22,23,24,25,26,27,28,29]\n",
    "        S = []\n",
    "        while len(L)>0:\n",
    "            j= rd.choice(L) #choisir aleatoirement des ville \n",
    "            S.append(j) \n",
    "            L.remove(j) #supprimer les villes parmi choisis pour eviter la viste d'une ville deux fois \n",
    "        population.append(S)\n",
    "    return population\n",
    "\n",
    "def child(S1,S2):  # evolution a partir de deux parent \n",
    "    M=[]\n",
    "    for i in range(15):\n",
    "        j= rd.choice(S1)\n",
    "        M.append(j)\n",
    " # ici on alterne la position d'une ville aleatoirement choisie par sa position dans le second parent\n",
    "    for j in M:\n",
    "        indice_arrivee =S2.index(j)\n",
    "        indice_depart= S1.index(j)\n",
    "        S1[indice_depart],S1[indice_arrivee] = S1[indice_arrivee],S1[indice_depart]\n",
    "    L = S1\n",
    "    return L"
   ]
  },
  {
   "cell_type": "code",
   "execution_count": null,
   "metadata": {},
   "outputs": [],
   "source": [
    "def min_cout(cost,listy):\n",
    "    mini = 100000\n",
    "    index = 1\n",
    "    for i in range(len(listy)):\n",
    "        if cost(listy[i]) < mini:\n",
    "            mini = cost(listy[i])\n",
    "            index = i\n",
    "    return [mini,listy[index]]"
   ]
  },
  {
   "cell_type": "code",
   "execution_count": null,
   "metadata": {},
   "outputs": [],
   "source": [
    "### ------------------------------------- Programme principale -------------------------------------\n",
    "\n",
    "Nb_solution = int(input('Saisissez le nombre de solution par géneration :'))\n",
    "population= generate_solution(Nb_solution) # population initiale avec avec 1000 solutions\n",
    "C= population.copy()\n",
    "Evolue = C\n",
    "rangee = int(input(\"Saisissez le nombre d'évolutions : \"))\n",
    "\n",
    "best_solution=[]\n",
    "\n",
    "for i in tqdm(range(1,rangee+1)):    \n",
    "    for j in range(len(Evolue)):# permet le croisement des 25 premiers solution avec les les 25 derniers solution \n",
    "        random_choice = rd.randint(0,len(Evolue)-1)\n",
    "        Evolue[j]=child(Evolue[j],Evolue[random_choice]) #croiser les deux solution.\n",
    "#     print(min_cout(cost,Evolue))\n",
    "    cout_minimum = min_cout(cost,Evolue)[0] # cout minimum a partir de la liste de solutions\n",
    "     # cout minimum a partir de la liste de solutions \n",
    "#     print([(x,cost(x)) for x in Evolue if cost(x) == cout_minimum])\n",
    "    best_solution.append([x for x in Evolue.copy() if cost(x) == cout_minimum][0]) # ajout de la bonne solution parmi ceux evolue\n",
    "    minimum_global = min_cout(cost,best_solution)[0]\n",
    "#     print([(x,cost(x)) for x in best_solution])\n",
    "\n",
    "print ('the optimal solution is :',[(x,cost(x)) for x in best_solution if cost(x) <= minimum_global][0]) # afficher la meilleur solution avec le cout correspondant\n",
    "\n",
    "time_start = time.perf_counter()\n",
    "#run your code\n",
    "\n",
    "mem=resource.getrusage(resource.RUSAGE_SELF).ru_maxrss/1024.0/1024.0\n",
    "time_elapsed = (time.perf_counter() - time_start) * 3600\n",
    "print('\\nInput data :',rangee,'evolution steps and a population of',Nb_solution,'\\n\\nTime Elapsed to run this algorithm is :',time_elapsed,'hours,\\nA memory usage of:',mem,'MB')\n"
   ]
  },
  {
   "cell_type": "code",
   "execution_count": null,
   "metadata": {},
   "outputs": [],
   "source": []
  },
  {
   "cell_type": "code",
   "execution_count": null,
   "metadata": {},
   "outputs": [],
   "source": []
  },
  {
   "cell_type": "code",
   "execution_count": null,
   "metadata": {},
   "outputs": [],
   "source": []
  },
  {
   "cell_type": "code",
   "execution_count": null,
   "metadata": {},
   "outputs": [],
   "source": []
  }
 ],
 "metadata": {
  "kernelspec": {
   "display_name": "Python 3",
   "language": "python",
   "name": "python3"
  },
  "language_info": {
   "codemirror_mode": {
    "name": "ipython",
    "version": 3
   },
   "file_extension": ".py",
   "mimetype": "text/x-python",
   "name": "python",
   "nbconvert_exporter": "python",
   "pygments_lexer": "ipython3",
   "version": "3.8.2"
  }
 },
 "nbformat": 4,
 "nbformat_minor": 4
}
